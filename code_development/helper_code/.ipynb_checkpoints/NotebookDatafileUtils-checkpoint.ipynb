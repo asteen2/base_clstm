{
 "cells": [
  {
   "cell_type": "code",
   "execution_count": 1,
   "metadata": {},
   "outputs": [],
   "source": [
    "import pandas as pd\n",
    "import numpy as np"
   ]
  },
  {
   "cell_type": "code",
   "execution_count": 2,
   "metadata": {},
   "outputs": [],
   "source": [
    "def describeDatafile(inFilename, fileType = 'csv'):\n",
    "    '''\n",
    "    This function opens a datafile with the name given in \"inFilename\",\n",
    "    reads its data into a two-column pandas dataframe in which the first\n",
    "    column is the sequence and the second column is the genome type label\n",
    "    (an integer). It then computes and returns a dictionary with statistics\n",
    "    that describe the data in the data file.\n",
    "\n",
    "    Input:\n",
    "        - the name of the file to open\n",
    "        - the type of file to handle (default is \"csv\"). Currently can only\n",
    "            handle csv files. [.faa format should be added]\n",
    "\n",
    "    Output:\n",
    "        a dictionary that has the following key names (which provide the information\n",
    "        described below):\n",
    "            - validFlag: A boolean indicating whether the datafile was\n",
    "                successfully read; Reasons for being false are: the data\n",
    "                file having the wrong number of columns, the file not being\n",
    "                found in the location indicated.\n",
    "                [Add more as code to handle other reasons is written]\n",
    "            - numRows: The number of rows in the data file (int)\n",
    "            - allLetters: A list of each unique letter found in the file\n",
    "                sequences\n",
    "            - totalNumLetters: The total number of letters in the file (int)\n",
    "            - avgLettsPerSeq: The average number of letters per sequence (float)\n",
    "            - medLettsPerSeq: The median number of letters per sequnce (float)\n",
    "            - maxLettsPerSeq: The maximum number of letters in a sequence (int)\n",
    "            - minLettsPerSeq: The minimum number of letters in a sequence (int)\n",
    "            - lettsInLine: A numpy array, the nth entry of which contains the\n",
    "                number of letters that are in the nth row of the file (int)\n",
    "            - naFirstCol: list of the row numbers where the first column value is NA\n",
    "            - naSecCol: list of the row numbers where the second column value is NA\n",
    "\n",
    "    '''\n",
    "    outDict = {}\n",
    "\n",
    "    try:\n",
    "        df = pd.read_csv(inFilename, header=None, names = [\"idx\", \"seq\"])\n",
    "    except:\n",
    "        outDict[\"validFlag\"] = False\n",
    "        return outDict\n",
    "\n",
    "    #DF without NaN rows:\n",
    "    cleanDF = df[~df.seq.isna()]\n",
    "\n",
    "    #one ~very~ long string of all the letters in all the rows:\n",
    "    wholeStr = ''.join(cleanDF.seq.to_list())\n",
    "\n",
    "    #to get list of which letters appear in each set of 3,000,000 rows...\n",
    "    #break it up into batches, bc all at once, it's too long\n",
    "    batchSize = 3000000\n",
    "    stepNum = 1\n",
    "    #ERROR MESSAGE: name 'stepNum' is not defined (next row)\n",
    "    letters = np.unique(np.array(list(wholeStr[stepNum*batchSize:(stepNum+1)*batchSize])))\n",
    "    #to get the last few rows:\n",
    "    lettersLast = np.unique(np.array(list(wholeStr[(len(wholeStr)//stepNum)*stepNum:])))\n",
    "    #concatenate it all together:\n",
    "    allLetters = np.concatenate([letters, lettersLast])\n",
    "    #get the unique letters in the whole file:\n",
    "    uniqueLetters = np.unique(np.concatenate(allLetters))\n",
    "\n",
    "    outDict[\"validFlag\"] = True\n",
    "    outDict[\"numRows\"] = df.shape[0]\n",
    "    outDict[\"allLetters\"] = uniqueLetters\n",
    "    return(outDict)"
   ]
  },
  {
   "cell_type": "code",
   "execution_count": 3,
   "metadata": {},
   "outputs": [],
   "source": [
    "df = pd.read_csv(\"/Users/Aidia/Documents/SummerResearch2020/NeuralNetData/test.csv\", header=None, names = [\"idx\", \"seq\"])"
   ]
  },
  {
   "cell_type": "code",
   "execution_count": 4,
   "metadata": {},
   "outputs": [
    {
     "name": "stdout",
     "output_type": "stream",
     "text": [
      "         idx                                                seq\n",
      "0          0  TCAGGCACGTTGCGCAGCAATGAAAGAGGCCAGAGTGGCGACGGAG...\n",
      "1          0  ATGAATGACGCTATTGAACAGCGTAAAGAAGTTCTGATGACCATTA...\n",
      "2          0  ATGAGCACTATCGAAGAACGCGTTAAGAAAATTATCGGCGAACAGC...\n",
      "3          0  ATGCAAGCGCTTTATCTGGAAATTAAAAACCTCATCATCAGCACCC...\n",
      "4          0  ATGACAGAACAACAAACCGTCTATCAGGAAGTCTCAGCCCTGCTGG...\n",
      "...      ...                                                ...\n",
      "1999995   99  CTAATATTTTTGTATATAGGAAGTCCAAAGATTCCTATAATATTTA...\n",
      "1999996   99  TTAATCTAATATATATACATTTACAGATCTTCTTCCCCAGCTTTGT...\n",
      "1999997   99  TTGAAAAGAATTATGAAGAAAGTTGCTTTGATTTTAACCCTGGTAG...\n",
      "1999998   99  ATGTCAAAAATAAAAAAACGGCTGGGAGAAATACTTATAGATGCAG...\n",
      "1999999   99  ATGTCTTCCAAAATGGTATTTAGTTTTAAAGAAAATTATGCAGATG...\n",
      "\n",
      "[2000000 rows x 2 columns]\n"
     ]
    }
   ],
   "source": [
    "print(df)"
   ]
  },
  {
   "cell_type": "code",
   "execution_count": 5,
   "metadata": {},
   "outputs": [],
   "source": [
    "cleanDF = df[~df.seq.isna()]"
   ]
  },
  {
   "cell_type": "code",
   "execution_count": 6,
   "metadata": {},
   "outputs": [],
   "source": [
    "wholeStr = ''.join(cleanDF.seq.to_list())"
   ]
  },
  {
   "cell_type": "code",
   "execution_count": 7,
   "metadata": {},
   "outputs": [
    {
     "name": "stdout",
     "output_type": "stream",
     "text": [
      "['A' 'C' 'G' 'R' 'S' 'T' 'Y']\n"
     ]
    }
   ],
   "source": [
    "batchSize = 3000000\n",
    "stepNum = 1\n",
    "letters = np.unique(np.array(list(wholeStr[stepNum*batchSize:(stepNum+1)*batchSize])))\n",
    "print(letters)"
   ]
  },
  {
   "cell_type": "code",
   "execution_count": 8,
   "metadata": {},
   "outputs": [
    {
     "name": "stdout",
     "output_type": "stream",
     "text": [
      "[]\n"
     ]
    }
   ],
   "source": [
    "lettersLast = np.unique(np.array(list(wholeStr[(len(wholeStr)//stepNum)*stepNum:])))\n",
    "print(lettersLast)"
   ]
  },
  {
   "cell_type": "code",
   "execution_count": 9,
   "metadata": {},
   "outputs": [
    {
     "data": {
      "text/html": [
       "<div>\n",
       "<style scoped>\n",
       "    .dataframe tbody tr th:only-of-type {\n",
       "        vertical-align: middle;\n",
       "    }\n",
       "\n",
       "    .dataframe tbody tr th {\n",
       "        vertical-align: top;\n",
       "    }\n",
       "\n",
       "    .dataframe thead th {\n",
       "        text-align: right;\n",
       "    }\n",
       "</style>\n",
       "<table border=\"1\" class=\"dataframe\">\n",
       "  <thead>\n",
       "    <tr style=\"text-align: right;\">\n",
       "      <th></th>\n",
       "      <th>idx</th>\n",
       "      <th>seq</th>\n",
       "    </tr>\n",
       "  </thead>\n",
       "  <tbody>\n",
       "    <tr>\n",
       "      <td>0</td>\n",
       "      <td>0</td>\n",
       "      <td>TCAGGCACGTTGCGCAGCAATGAAAGAGGCCAGAGTGGCGACGGAG...</td>\n",
       "    </tr>\n",
       "    <tr>\n",
       "      <td>1</td>\n",
       "      <td>0</td>\n",
       "      <td>ATGAATGACGCTATTGAACAGCGTAAAGAAGTTCTGATGACCATTA...</td>\n",
       "    </tr>\n",
       "    <tr>\n",
       "      <td>2</td>\n",
       "      <td>0</td>\n",
       "      <td>ATGAGCACTATCGAAGAACGCGTTAAGAAAATTATCGGCGAACAGC...</td>\n",
       "    </tr>\n",
       "    <tr>\n",
       "      <td>3</td>\n",
       "      <td>0</td>\n",
       "      <td>ATGCAAGCGCTTTATCTGGAAATTAAAAACCTCATCATCAGCACCC...</td>\n",
       "    </tr>\n",
       "    <tr>\n",
       "      <td>4</td>\n",
       "      <td>0</td>\n",
       "      <td>ATGACAGAACAACAAACCGTCTATCAGGAAGTCTCAGCCCTGCTGG...</td>\n",
       "    </tr>\n",
       "    <tr>\n",
       "      <td>...</td>\n",
       "      <td>...</td>\n",
       "      <td>...</td>\n",
       "    </tr>\n",
       "    <tr>\n",
       "      <td>1999995</td>\n",
       "      <td>99</td>\n",
       "      <td>CTAATATTTTTGTATATAGGAAGTCCAAAGATTCCTATAATATTTA...</td>\n",
       "    </tr>\n",
       "    <tr>\n",
       "      <td>1999996</td>\n",
       "      <td>99</td>\n",
       "      <td>TTAATCTAATATATATACATTTACAGATCTTCTTCCCCAGCTTTGT...</td>\n",
       "    </tr>\n",
       "    <tr>\n",
       "      <td>1999997</td>\n",
       "      <td>99</td>\n",
       "      <td>TTGAAAAGAATTATGAAGAAAGTTGCTTTGATTTTAACCCTGGTAG...</td>\n",
       "    </tr>\n",
       "    <tr>\n",
       "      <td>1999998</td>\n",
       "      <td>99</td>\n",
       "      <td>ATGTCAAAAATAAAAAAACGGCTGGGAGAAATACTTATAGATGCAG...</td>\n",
       "    </tr>\n",
       "    <tr>\n",
       "      <td>1999999</td>\n",
       "      <td>99</td>\n",
       "      <td>ATGTCTTCCAAAATGGTATTTAGTTTTAAAGAAAATTATGCAGATG...</td>\n",
       "    </tr>\n",
       "  </tbody>\n",
       "</table>\n",
       "<p>1999967 rows × 2 columns</p>\n",
       "</div>"
      ],
      "text/plain": [
       "         idx                                                seq\n",
       "0          0  TCAGGCACGTTGCGCAGCAATGAAAGAGGCCAGAGTGGCGACGGAG...\n",
       "1          0  ATGAATGACGCTATTGAACAGCGTAAAGAAGTTCTGATGACCATTA...\n",
       "2          0  ATGAGCACTATCGAAGAACGCGTTAAGAAAATTATCGGCGAACAGC...\n",
       "3          0  ATGCAAGCGCTTTATCTGGAAATTAAAAACCTCATCATCAGCACCC...\n",
       "4          0  ATGACAGAACAACAAACCGTCTATCAGGAAGTCTCAGCCCTGCTGG...\n",
       "...      ...                                                ...\n",
       "1999995   99  CTAATATTTTTGTATATAGGAAGTCCAAAGATTCCTATAATATTTA...\n",
       "1999996   99  TTAATCTAATATATATACATTTACAGATCTTCTTCCCCAGCTTTGT...\n",
       "1999997   99  TTGAAAAGAATTATGAAGAAAGTTGCTTTGATTTTAACCCTGGTAG...\n",
       "1999998   99  ATGTCAAAAATAAAAAAACGGCTGGGAGAAATACTTATAGATGCAG...\n",
       "1999999   99  ATGTCTTCCAAAATGGTATTTAGTTTTAAAGAAAATTATGCAGATG...\n",
       "\n",
       "[1999967 rows x 2 columns]"
      ]
     },
     "execution_count": 9,
     "metadata": {},
     "output_type": "execute_result"
    }
   ],
   "source": [
    "cleanDF"
   ]
  },
  {
   "cell_type": "code",
   "execution_count": 14,
   "metadata": {},
   "outputs": [
    {
     "ename": "TypeError",
     "evalue": "'int' object is not subscriptable",
     "output_type": "error",
     "traceback": [
      "\u001b[0;31m---------------------------------------------------------------------------\u001b[0m",
      "\u001b[0;31mTypeError\u001b[0m                                 Traceback (most recent call last)",
      "\u001b[0;32m<ipython-input-14-08f437da937a>\u001b[0m in \u001b[0;36m<module>\u001b[0;34m\u001b[0m\n\u001b[1;32m      2\u001b[0m \u001b[0;34m\u001b[0m\u001b[0m\n\u001b[1;32m      3\u001b[0m \u001b[0;32mfor\u001b[0m \u001b[0mind\u001b[0m \u001b[0;32min\u001b[0m \u001b[0mcleanDF\u001b[0m\u001b[0;34m.\u001b[0m\u001b[0mindex\u001b[0m\u001b[0;34m:\u001b[0m\u001b[0;34m\u001b[0m\u001b[0;34m\u001b[0m\u001b[0m\n\u001b[0;32m----> 4\u001b[0;31m     \u001b[0mnumLettsArray\u001b[0m\u001b[0;34m.\u001b[0m\u001b[0mappend\u001b[0m\u001b[0;34m(\u001b[0m\u001b[0mlen\u001b[0m\u001b[0;34m(\u001b[0m\u001b[0mind\u001b[0m\u001b[0;34m[\u001b[0m\u001b[0;34m\"seq\"\u001b[0m\u001b[0;34m]\u001b[0m\u001b[0;34m)\u001b[0m\u001b[0;34m)\u001b[0m\u001b[0;34m\u001b[0m\u001b[0;34m\u001b[0m\u001b[0m\n\u001b[0m\u001b[1;32m      5\u001b[0m \u001b[0;34m\u001b[0m\u001b[0m\n\u001b[1;32m      6\u001b[0m \u001b[0;34m\u001b[0m\u001b[0m\n",
      "\u001b[0;31mTypeError\u001b[0m: 'int' object is not subscriptable"
     ]
    }
   ],
   "source": [
    "numLettsArray = []\n",
    "\n",
    "for ind in cleanDF.index:\n",
    "    numLettsArray.append(len(ind[\"seq\"]))\n",
    "\n",
    "\n",
    "#A = np.vstack((A, X[X[:,0] < 3]))"
   ]
  },
  {
   "cell_type": "code",
   "execution_count": 11,
   "metadata": {},
   "outputs": [
    {
     "name": "stdout",
     "output_type": "stream",
     "text": [
      "[1 2 3]\n",
      "[4 5 6]\n"
     ]
    }
   ],
   "source": [
    "arr = np.array([[1, 2, 3], [4, 5, 6]])\n",
    "\n",
    "for x in arr:\n",
    "  print(x)"
   ]
  },
  {
   "cell_type": "code",
   "execution_count": null,
   "metadata": {},
   "outputs": [],
   "source": [
    "A = np.vstack(())"
   ]
  }
 ],
 "metadata": {
  "kernelspec": {
   "display_name": "Python 3",
   "language": "python",
   "name": "python3"
  },
  "language_info": {
   "codemirror_mode": {
    "name": "ipython",
    "version": 3
   },
   "file_extension": ".py",
   "mimetype": "text/x-python",
   "name": "python",
   "nbconvert_exporter": "python",
   "pygments_lexer": "ipython3",
   "version": "3.7.4"
  }
 },
 "nbformat": 4,
 "nbformat_minor": 2
}
